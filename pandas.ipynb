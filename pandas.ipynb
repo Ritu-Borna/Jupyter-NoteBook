{
 "cells": [
  {
   "cell_type": "code",
   "execution_count": 1,
   "id": "b0392d12-16e7-4a8d-933e-2b7fe2d673bc",
   "metadata": {},
   "outputs": [],
   "source": [
    "import numpy as np\n",
    "import pandas as pd"
   ]
  },
  {
   "cell_type": "code",
   "execution_count": 2,
   "id": "20d03fe4-8f42-48ba-8283-0a6784eaebe6",
   "metadata": {},
   "outputs": [
    {
     "name": "stdout",
     "output_type": "stream",
     "text": [
      "     M   N   O     P\n",
      "0  1.0  11 NaN  16.0\n",
      "1  2.0  12 NaN   NaN\n",
      "2  NaN  13 NaN  18.0\n",
      "3  4.0  14 NaN  19.0\n",
      "4  NaN  15 NaN  20.0\n"
     ]
    }
   ],
   "source": [
    "data_dic = {'M':[1,2,np.nan,4,np.nan],\n",
    "            'N':[11,12,13,14,15],\n",
    "            'O':[np.nan,np.nan,np.nan,np.nan,np.nan],\n",
    "            'P':[16,np.nan,18,19,20]}\n",
    "df = pd.DataFrame(data_dic) # dataframe from a dic.\n",
    "print(df)"
   ]
  },
  {
   "cell_type": "code",
   "execution_count": 3,
   "id": "f6424ff0-1ca6-42f6-b514-81886ce3bcb6",
   "metadata": {},
   "outputs": [
    {
     "name": "stdout",
     "output_type": "stream",
     "text": [
      "       M      N     O      P\n",
      "0  False  False  True  False\n",
      "1  False  False  True   True\n",
      "2   True  False  True  False\n",
      "3  False  False  True  False\n",
      "4   True  False  True  False\n",
      "M    2\n",
      "N    0\n",
      "O    5\n",
      "P    1\n",
      "dtype: int64\n"
     ]
    }
   ],
   "source": [
    "print(df.isnull())\n",
    "\n",
    "print(df.isnull().sum())"
   ]
  },
  {
   "cell_type": "code",
   "execution_count": 4,
   "id": "25352bdb-e9d9-4290-badd-140c9683f7c3",
   "metadata": {},
   "outputs": [
    {
     "name": "stdout",
     "output_type": "stream",
     "text": [
      "     M   N  O     P\n",
      "0  1.0  11  N  16.0\n",
      "1  2.0  12  N     N\n",
      "2    N  13  N  18.0\n",
      "3  4.0  14  N  19.0\n",
      "4    N  15  N  20.0\n"
     ]
    }
   ],
   "source": [
    "import numpy as np\n",
    "import pandas as pd\n",
    "\n",
    "data_dic = {\n",
    "    'M': [1, 2, np.nan, 4, np.nan],\n",
    "    'N': [11, 12, 13, 14, 15],\n",
    "    'O': [np.nan, np.nan, np.nan, np.nan, np.nan],\n",
    "    'P': [16, np.nan, 18, 19, 20]\n",
    "}\n",
    "\n",
    "df = df.fillna(\"N\")\n",
    "print(df)"
   ]
  },
  {
   "cell_type": "code",
   "execution_count": 5,
   "id": "c17024ca-f198-46da-b4f9-6d94a8c5c892",
   "metadata": {},
   "outputs": [
    {
     "name": "stdout",
     "output_type": "stream",
     "text": [
      "          M   N   O     P\n",
      "0  1.000000  11 NaN  16.0\n",
      "1  2.000000  12 NaN   NaN\n",
      "2  2.333333  13 NaN  18.0\n",
      "3  4.000000  14 NaN  19.0\n",
      "4  2.333333  15 NaN  20.0\n"
     ]
    }
   ],
   "source": [
    "import numpy as np\n",
    "import pandas as pd\n",
    "\n",
    "data_dic = {\n",
    "    'M': [1, 2, np.nan, 4, np.nan],\n",
    "    'N': [11, 12, 13, 14, 15],\n",
    "    'O': [np.nan, np.nan, np.nan, np.nan, np.nan],\n",
    "    'P': [16, np.nan, 18, 19, 20]\n",
    "}\n",
    "\n",
    "df = pd.DataFrame(data_dic)\n",
    "mean_M = df['M'].mean()\n",
    "df['M'] = df['M'].fillna(mean_M)\n",
    "\n",
    "print(df)\n"
   ]
  },
  {
   "cell_type": "code",
   "execution_count": 6,
   "id": "da2e2faa-693f-4bfc-8f8a-170ada925942",
   "metadata": {},
   "outputs": [
    {
     "name": "stdout",
     "output_type": "stream",
     "text": [
      "          M   N   O     P\n",
      "0  1.000000  11 NaN  16.0\n",
      "1  2.000000  12 NaN  16.0\n",
      "2  2.333333  13 NaN  18.0\n",
      "3  4.000000  14 NaN  19.0\n",
      "4  2.333333  15 NaN  20.0\n"
     ]
    }
   ],
   "source": [
    "import numpy as np\n",
    "import pandas as pd\n",
    "\n",
    "data_dic = {\n",
    "    'M': [1, 2, np.nan, 4, np.nan],\n",
    "    'N': [11, 12, 13, 14, 15],\n",
    "    'O': [np.nan, np.nan, np.nan, np.nan, np.nan],\n",
    "    'P': [16, np.nan, 18, 19, 20]\n",
    "}\n",
    "df.ffill(inplace=True)\n",
    "print(df)\n"
   ]
  },
  {
   "cell_type": "code",
   "execution_count": 7,
   "id": "6bf7c0a8-b892-4d8f-8995-37d7e02164f6",
   "metadata": {},
   "outputs": [
    {
     "name": "stdout",
     "output_type": "stream",
     "text": [
      "     M     N   O     P\n",
      "0  1.0  None  11  16.0\n",
      "1  2.0  None  12  16.0\n",
      "2  2.0  None  13  18.0\n",
      "3  4.0  None  14  19.0\n",
      "4  4.0  None  15  20.0\n"
     ]
    }
   ],
   "source": [
    "import pandas as pd\n",
    "\n",
    "data_dic_filled = {\n",
    "    'M': [1.0, 2.0, 2.0, 4.0, 4.0],\n",
    "    'N': [None, None, None, None, None],\n",
    "    'O': [11, 12, 13, 14, 15],\n",
    "    'P': [16.0, 16.0, 18.0, 19.0, 20.0]\n",
    "}\n",
    "\n",
    "df = pd.DataFrame(data_dic_filled)\n",
    "print(df)\n"
   ]
  },
  {
   "cell_type": "code",
   "execution_count": null,
   "id": "d2553129-945d-4bde-a60f-49bde0661538",
   "metadata": {},
   "outputs": [],
   "source": []
  }
 ],
 "metadata": {
  "kernelspec": {
   "display_name": "Python 3 (ipykernel)",
   "language": "python",
   "name": "python3"
  },
  "language_info": {
   "codemirror_mode": {
    "name": "ipython",
    "version": 3
   },
   "file_extension": ".py",
   "mimetype": "text/x-python",
   "name": "python",
   "nbconvert_exporter": "python",
   "pygments_lexer": "ipython3",
   "version": "3.13.5"
  }
 },
 "nbformat": 4,
 "nbformat_minor": 5
}

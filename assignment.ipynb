{
 "cells": [
  {
   "cell_type": "code",
   "execution_count": 1,
   "id": "be6eb1be-a2aa-4a38-bd00-4aaf5ac3e3fa",
   "metadata": {},
   "outputs": [],
   "source": [
    "#question-1:\n",
    "#vector is 1-dimensional,while a matrix is 2-dimensional\n"
   ]
  },
  {
   "cell_type": "code",
   "execution_count": 2,
   "id": "37c0aaf5-e176-4d5d-aca6-be345f7190d6",
   "metadata": {},
   "outputs": [],
   "source": [
    "#question-2:\n",
    "import numpy as np"
   ]
  },
  {
   "cell_type": "code",
   "execution_count": 3,
   "id": "6f0d717f-f099-4542-aa7c-c1585f24e30c",
   "metadata": {},
   "outputs": [
    {
     "name": "stdout",
     "output_type": "stream",
     "text": [
      "[1 2 3 4 5]\n",
      "int64\n"
     ]
    }
   ],
   "source": [
    "# question-3:\n",
    "import numpy as np\n",
    "\n",
    "list_1=[1,2,3,4,5]\n",
    "arr=np.array(list_1)\n",
    "\n",
    "print(arr)\n",
    "print(arr.dtype)"
   ]
  },
  {
   "cell_type": "code",
   "execution_count": 4,
   "id": "d3d9f458-fe58-4f09-9fa3-e8bd6e6dc5a6",
   "metadata": {},
   "outputs": [
    {
     "name": "stdout",
     "output_type": "stream",
     "text": [
      "[0 1 2 3 4 5]\n"
     ]
    }
   ],
   "source": [
    "# question-4\n",
    "import numpy as np\n",
    "\n",
    "arr=np.arange(0,6)\n",
    "print(arr)\n"
   ]
  },
  {
   "cell_type": "code",
   "execution_count": 5,
   "id": "fc3b7d6a-095e-4332-9a03-54b93fea5452",
   "metadata": {},
   "outputs": [
    {
     "name": "stdout",
     "output_type": "stream",
     "text": [
      "[0. 0. 0. 0. 0.]\n"
     ]
    }
   ],
   "source": [
    "# question-5:\n",
    "import numpy as np\n",
    "arr=np.zeros(5)\n",
    "print(arr)"
   ]
  },
  {
   "cell_type": "code",
   "execution_count": 6,
   "id": "c769099f-351f-4dfc-86ac-05df93e9f113",
   "metadata": {},
   "outputs": [
    {
     "name": "stdout",
     "output_type": "stream",
     "text": [
      "[[0. 0. 0. 0.]\n",
      " [0. 0. 0. 0.]\n",
      " [0. 0. 0. 0.]]\n"
     ]
    }
   ],
   "source": [
    "# question-6:\n",
    "import numpy as np\n",
    "\n",
    "mat=np.zeros((3,4))\n",
    "print(mat)"
   ]
  },
  {
   "cell_type": "code",
   "execution_count": 7,
   "id": "c04e8b3c-ad60-4593-82c5-3d5dccb3da1c",
   "metadata": {},
   "outputs": [
    {
     "name": "stdout",
     "output_type": "stream",
     "text": [
      "[1. 1. 1. 1. 1.]\n"
     ]
    }
   ],
   "source": [
    "# question-7:\n",
    "import numpy as np\n",
    "\n",
    "arr=np.ones(5)\n",
    "print(arr)"
   ]
  },
  {
   "cell_type": "code",
   "execution_count": 8,
   "id": "1236cf3c-55a8-4aae-919e-54ba690954fc",
   "metadata": {},
   "outputs": [
    {
     "name": "stdout",
     "output_type": "stream",
     "text": [
      "[1. 1. 1. 1. 1.]\n"
     ]
    }
   ],
   "source": [
    "# question-8:\n",
    "import numpy as np\n",
    "\n",
    "arr=np.ones(5)\n",
    "print(arr)"
   ]
  },
  {
   "cell_type": "code",
   "execution_count": 9,
   "id": "a3fe468e-f701-4877-9d9d-54f016560205",
   "metadata": {},
   "outputs": [
    {
     "name": "stdout",
     "output_type": "stream",
     "text": [
      "[ 50  52  54  56  58  60  62  64  66  68  70  72  74  76  78  80  82  84\n",
      "  86  88  90  92  94  96  98 100]\n"
     ]
    }
   ],
   "source": [
    "# question-9:\n",
    "import numpy as np\n",
    "\n",
    "evens=np.arange(50,101,2)\n",
    "print(evens)"
   ]
  },
  {
   "cell_type": "code",
   "execution_count": 10,
   "id": "159da7b9-5590-4934-9d55-19dbb7c327d0",
   "metadata": {},
   "outputs": [
    {
     "name": "stdout",
     "output_type": "stream",
     "text": [
      "[ 50  52  54  56  58  60  62  64  66  68  70  72  74  76  78  80  82  84\n",
      "  86  88  90  92  94  96  98 100]\n"
     ]
    }
   ],
   "source": [
    "# question-10:\n",
    "import numpy as np\n",
    "\n",
    "evens=np.arange(50,101,2)\n",
    "print(evens)"
   ]
  },
  {
   "cell_type": "code",
   "execution_count": 11,
   "id": "c0ba3e52-38c6-4357-b6b7-6305abb005a5",
   "metadata": {},
   "outputs": [
    {
     "name": "stdout",
     "output_type": "stream",
     "text": [
      "[ 50  52  54  56  58  60  62  64  66  68  70  72  74  76  78  80  82  84\n",
      "  86  88  90  92  94  96  98 100]\n"
     ]
    }
   ],
   "source": [
    "# question-11:\n",
    "import numpy as np\n",
    "\n",
    "evens=np.arange(50,101,2)\n",
    "print(evens)"
   ]
  },
  {
   "cell_type": "code",
   "execution_count": 12,
   "id": "87fde2cf-a5f9-49e2-9e9d-12fd0d045cff",
   "metadata": {},
   "outputs": [
    {
     "name": "stdout",
     "output_type": "stream",
     "text": [
      "[ 50  52  54  56  58  60  62  64  66  68  70  72  74  76  78  80  82  84\n",
      "  86  88  90  92  94  96  98 100]\n"
     ]
    }
   ],
   "source": [
    "import numpy as np\n",
    "\n",
    "evens=np.arange(50,101,2)\n",
    "print(evens)\n"
   ]
  },
  {
   "cell_type": "code",
   "execution_count": 13,
   "id": "508f5885-20a9-4c7a-9af3-b4f4cb469b1f",
   "metadata": {},
   "outputs": [
    {
     "name": "stdout",
     "output_type": "stream",
     "text": [
      "Vector: [[ 0  1  2  3  4]\n",
      " [ 5  6  7  8  9]\n",
      " [10 11 12 13 14]\n",
      " [15 16 17 18 19]\n",
      " [20 21 22 23 24]]\n"
     ]
    }
   ],
   "source": [
    "# yes, we can use shape instead of reshape as well.\n",
    "import numpy as np\n",
    "\n",
    "vec = np.arange(25)\n",
    "vec.shape = (5,5)\n",
    "\n",
    "print(\"Vector:\", vec)"
   ]
  },
  {
   "cell_type": "code",
   "execution_count": 14,
   "id": "a14a0bc7-cd57-4bec-aaab-2f467fdc4abd",
   "metadata": {},
   "outputs": [
    {
     "name": "stdout",
     "output_type": "stream",
     "text": [
      "Vector: [[ 0  1  2  3  4]\n",
      " [ 5  6  7  8  9]\n",
      " [10 11 12 13 14]\n",
      " [15 16 17 18 19]\n",
      " [20 21 22 23 24]]\n"
     ]
    }
   ],
   "source": [
    "# question-12:\n",
    "# yes, we can use shape instead of reshape as well.\n",
    "import numpy as np\n",
    "\n",
    "vec = np.arange(25)\n",
    "vec.shape = (5,5)\n",
    "\n",
    "print(\"Vector:\", vec)"
   ]
  },
  {
   "cell_type": "code",
   "execution_count": 15,
   "id": "c1d3c065-c7bd-4114-8ef0-fde214a66fcb",
   "metadata": {},
   "outputs": [
    {
     "name": "stdout",
     "output_type": "stream",
     "text": [
      "Vector: [[ 0  1  2  3  4]\n",
      " [ 5  6  7  8  9]\n",
      " [10 11 12 13 14]\n",
      " [15 16 17 18 19]\n",
      " [20 21 22 23 24]]\n"
     ]
    }
   ],
   "source": [
    "# question-13:\n",
    "# yes, we can use shape instead of reshape as well.\n",
    "import numpy as np\n",
    "\n",
    "vec = np.arange(25)\n",
    "vec.shape = (5,5)\n",
    "\n",
    "print(\"Vector:\", vec)"
   ]
  },
  {
   "cell_type": "code",
   "execution_count": 16,
   "id": "b004f64d-d0be-48d0-b4a1-76f964bfd716",
   "metadata": {},
   "outputs": [
    {
     "name": "stdout",
     "output_type": "stream",
     "text": [
      "Vector: [[ 0  1  2  3  4]\n",
      " [ 5  6  7  8  9]\n",
      " [10 11 12 13 14]\n",
      " [15 16 17 18 19]\n",
      " [20 21 22 23 24]]\n"
     ]
    }
   ],
   "source": [
    "# question-14:\n",
    "# yes, we can use shape instead of reshape as well.\n",
    "import numpy as np\n",
    "\n",
    "vec = np.arange(25)\n",
    "vec.shape = (5,5)\n",
    "\n",
    "print(\"Vector:\", vec)"
   ]
  },
  {
   "cell_type": "code",
   "execution_count": 17,
   "id": "f2431914-4dd2-43f5-9053-737948a9a017",
   "metadata": {},
   "outputs": [
    {
     "name": "stdout",
     "output_type": "stream",
     "text": [
      "Vector: [[ 0  1  2  3  4]\n",
      " [ 5  6  7  8  9]\n",
      " [10 11 12 13 14]\n",
      " [15 16 17 18 19]\n",
      " [20 21 22 23 24]]\n"
     ]
    }
   ],
   "source": [
    "# question-15:\n",
    "# yes, we can use shape instead of reshape as well.\n",
    "import numpy as np\n",
    "\n",
    "vec = np.arange(25)\n",
    "vec.shape = (5,5)\n",
    "\n",
    "print(\"Vector:\", vec)"
   ]
  },
  {
   "cell_type": "code",
   "execution_count": 18,
   "id": "0c9cfea1-076e-4846-a1bd-7ab15c9edfb8",
   "metadata": {},
   "outputs": [
    {
     "name": "stdout",
     "output_type": "stream",
     "text": [
      "Vector: [[ 0  1  2  3  4]\n",
      " [ 5  6  7  8  9]\n",
      " [10 11 12 13 14]\n",
      " [15 16 17 18 19]\n",
      " [20 21 22 23 24]]\n"
     ]
    }
   ],
   "source": [
    "# question-16:\n",
    "# yes, we can use shape instead of reshape as well.\n",
    "import numpy as np\n",
    "\n",
    "vec = np.arange(25)\n",
    "vec.shape = (5,5)\n",
    "\n",
    "print(\"Vector:\", vec)"
   ]
  },
  {
   "cell_type": "code",
   "execution_count": 19,
   "id": "bf144978-a19e-4b27-b5d0-9148bdc7889a",
   "metadata": {},
   "outputs": [
    {
     "name": "stdout",
     "output_type": "stream",
     "text": [
      "Vector: [[ 0  1  2  3  4]\n",
      " [ 5  6  7  8  9]\n",
      " [10 11 12 13 14]\n",
      " [15 16 17 18 19]\n",
      " [20 21 22 23 24]]\n"
     ]
    }
   ],
   "source": [
    "# question-17:\n",
    "# yes, we can use shape instead of reshape as well.\n",
    "import numpy as np\n",
    "\n",
    "vec = np.arange(25)\n",
    "vec.shape = (5,5)\n",
    "\n",
    "print(\"Vector:\", vec)"
   ]
  }
 ],
 "metadata": {
  "kernelspec": {
   "display_name": "Python 3 (ipykernel)",
   "language": "python",
   "name": "python3"
  },
  "language_info": {
   "codemirror_mode": {
    "name": "ipython",
    "version": 3
   },
   "file_extension": ".py",
   "mimetype": "text/x-python",
   "name": "python",
   "nbconvert_exporter": "python",
   "pygments_lexer": "ipython3",
   "version": "3.13.5"
  }
 },
 "nbformat": 4,
 "nbformat_minor": 5
}

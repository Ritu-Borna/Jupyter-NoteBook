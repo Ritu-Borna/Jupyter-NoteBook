{
 "cells": [
  {
   "cell_type": "markdown",
   "metadata": {},
   "source": [
    "**1. Import Pandas and Read the csv file.**"
   ]
  },
  {
   "cell_type": "markdown",
   "metadata": {},
   "source": [
    "# Ecommerce Purchases Exercise Overview\n",
    "\n",
    "Hi Guys,<br>\n",
    "After a crash course on pandas for data analysis, its time to do some practice!!!<br>\n",
    "Because of privacy issues, I have created a fake dataset here with 30K entries. <br>\n",
    "The situation is, customers are providing some personal information while purchasing stuff on-line or in-store. For some reasons, your client wants to know the answer to some of his questions from the dataset, let's try to help him!.<br>\n",
    "\n",
    "*Feel free to consult the solutions if needed. Please note, the tasks given in the exercises, can be solved in different ways. Try your best answer and compare with the solutions.* <br>\n",
    "&#9758; The dataset is provided in the course downloads. "
   ]
  },
  {
   "cell_type": "code",
   "execution_count": 1,
   "metadata": {},
   "outputs": [
    {
     "name": "stdout",
     "output_type": "stream",
     "text": [
      "      prefix    first       last              email  gender  age  \\\n",
      "0        Dr.      Ray     Morton    sebvajom@kol.km    Male   38   \n",
      "1       Miss  Claudia  Rodriquez      acu@jatsot.ug  Female   51   \n",
      "2       Miss    Harry      Meyer          zuz@lo.wf  Female   51   \n",
      "3       Miss    Edith    Gilbert  hansohsi@jupec.md  Female   55   \n",
      "4        Dr.     Lura     Murphy     webediti@je.st  Female   20   \n",
      "...      ...      ...        ...                ...     ...  ...   \n",
      "29995    Mr.     John    Maxwell  larlisu@sejenu.ad  Female   38   \n",
      "29996    Dr.   Alfred       Bass      le@duridzo.gh  Female   24   \n",
      "29997   Mrs.   Edward     Curtis      ta@kucemah.et  Female   56   \n",
      "29998    Mr.      Max      Woods       li@mincoz.mp  Female   64   \n",
      "29999    Mr.     Olga  Rodriguez         ner@ota.ec    Male   22   \n",
      "\n",
      "                             company                profession  \\\n",
      "0                     Medtronic Inc.          Health Therapist   \n",
      "1       Ames Department Stores, Inc.          Health Therapist   \n",
      "2                          CSX Corp.       Political Scientist   \n",
      "3             Murphy Oil Corporation    Transportation Manager   \n",
      "4                       PETsMART Inc              Statistician   \n",
      "...                              ...                       ...   \n",
      "29995                  Spherion Corp       Publishing Director   \n",
      "29996                  Ford Motor Co          Diamond Merchant   \n",
      "29997  Park Place Entertainment Corp        Executive Director   \n",
      "29998           Nacco Industries Inc  University Administrator   \n",
      "29999          Texas Industries Inc.           Leasing Manager   \n",
      "\n",
      "                phone   postal province             cc_no   cc_exp  \\\n",
      "0      (987) 619-2695  B6V 3W3       MB  5020000000000230  05/2018   \n",
      "1      (356) 736-7352  G7M 5F3       SK  5020000000000230  07/2028   \n",
      "2      (539) 246-1806  A0Z 6P9       NS  6300000000000000  02/2023   \n",
      "3      (984) 962-7494  P9I 9H3       YT  3530000000000000  02/2028   \n",
      "4      (902) 568-9748  S1A 6K0       ON  4030000000000000  10/2025   \n",
      "...               ...      ...      ...               ...      ...   \n",
      "29995  (873) 298-1178  V4U 0X2       YT  6330000000000000  04/2028   \n",
      "29996  (541) 904-3323  T9O 1H6       PE   201000000000000  12/2026   \n",
      "29997  (375) 931-8605  X5Z 4E1       QC   201000000000000  06/2021   \n",
      "29998  (786) 481-9627  G0S 9Q8       NS    30000000000000  08/2023   \n",
      "29999  (841) 962-4087  N2D 5K3       BC  6300000000000000  05/2024   \n",
      "\n",
      "                         cc_type  price(CAD) fav_color              ip  \\\n",
      "0                           Solo        8.36      Blue    126.23.139.2   \n",
      "1                           Visa       68.31     Black  106.198.76.211   \n",
      "2                         Switch       34.65     Black  186.150.187.29   \n",
      "3                        Maestro       64.59     White   80.140.57.161   \n",
      "4      Diners Club International       20.83    Yellow   211.103.43.41   \n",
      "...                          ...         ...       ...             ...   \n",
      "29995              Visa Electron       90.37       Red  194.14.119.109   \n",
      "29996           American Express        5.94     White  154.114.74.254   \n",
      "29997                    Maestro       65.66     Black   188.0.106.220   \n",
      "29998                       Solo       52.66     Black  129.168.247.27   \n",
      "29999               InstaPayment       17.71    Yellow     70.2.107.65   \n",
      "\n",
      "         weekday ampm        date  \n",
      "0         Sunday   pm  04/05/1930  \n",
      "1        Tuesday   am  12/20/1926  \n",
      "2      Wednesday   pm  08/20/1931  \n",
      "3       Saturday   am  06/18/2001  \n",
      "4         Friday   pm  06/14/2045  \n",
      "...          ...  ...         ...  \n",
      "29995     Sunday   am  04/18/2014  \n",
      "29996     Sunday   pm  09/27/2068  \n",
      "29997     Monday   pm  09/07/1997  \n",
      "29998     Monday   pm  09/08/1938  \n",
      "29999  Wednesday   am  06/22/1956  \n",
      "\n",
      "[30000 rows x 20 columns]\n"
     ]
    }
   ],
   "source": [
    "import pandas as pd\n",
    "\n",
    "df = pd.read_csv('Cust_Purch_FakeData.csv')\n",
    "\n",
    "print(df)"
   ]
  },
  {
   "cell_type": "markdown",
   "metadata": {},
   "source": [
    "**2. Its good idea to see how the data look like, display first 5 rows of your data-set.**"
   ]
  },
  {
   "cell_type": "code",
   "execution_count": 2,
   "metadata": {},
   "outputs": [
    {
     "data": {
      "text/html": [
       "<div>\n",
       "<style scoped>\n",
       "    .dataframe tbody tr th:only-of-type {\n",
       "        vertical-align: middle;\n",
       "    }\n",
       "\n",
       "    .dataframe tbody tr th {\n",
       "        vertical-align: top;\n",
       "    }\n",
       "\n",
       "    .dataframe thead th {\n",
       "        text-align: right;\n",
       "    }\n",
       "</style>\n",
       "<table border=\"1\" class=\"dataframe\">\n",
       "  <thead>\n",
       "    <tr style=\"text-align: right;\">\n",
       "      <th></th>\n",
       "      <th>prefix</th>\n",
       "      <th>first</th>\n",
       "      <th>last</th>\n",
       "      <th>email</th>\n",
       "      <th>gender</th>\n",
       "      <th>age</th>\n",
       "      <th>company</th>\n",
       "      <th>profession</th>\n",
       "      <th>phone</th>\n",
       "      <th>postal</th>\n",
       "      <th>province</th>\n",
       "      <th>cc_no</th>\n",
       "      <th>cc_exp</th>\n",
       "      <th>cc_type</th>\n",
       "      <th>price(CAD)</th>\n",
       "      <th>fav_color</th>\n",
       "      <th>ip</th>\n",
       "      <th>weekday</th>\n",
       "      <th>ampm</th>\n",
       "      <th>date</th>\n",
       "    </tr>\n",
       "  </thead>\n",
       "  <tbody>\n",
       "    <tr>\n",
       "      <th>0</th>\n",
       "      <td>Dr.</td>\n",
       "      <td>Ray</td>\n",
       "      <td>Morton</td>\n",
       "      <td>sebvajom@kol.km</td>\n",
       "      <td>Male</td>\n",
       "      <td>38</td>\n",
       "      <td>Medtronic Inc.</td>\n",
       "      <td>Health Therapist</td>\n",
       "      <td>(987) 619-2695</td>\n",
       "      <td>B6V 3W3</td>\n",
       "      <td>MB</td>\n",
       "      <td>5020000000000230</td>\n",
       "      <td>05/2018</td>\n",
       "      <td>Solo</td>\n",
       "      <td>8.36</td>\n",
       "      <td>Blue</td>\n",
       "      <td>126.23.139.2</td>\n",
       "      <td>Sunday</td>\n",
       "      <td>pm</td>\n",
       "      <td>04/05/1930</td>\n",
       "    </tr>\n",
       "    <tr>\n",
       "      <th>1</th>\n",
       "      <td>Miss</td>\n",
       "      <td>Claudia</td>\n",
       "      <td>Rodriquez</td>\n",
       "      <td>acu@jatsot.ug</td>\n",
       "      <td>Female</td>\n",
       "      <td>51</td>\n",
       "      <td>Ames Department Stores, Inc.</td>\n",
       "      <td>Health Therapist</td>\n",
       "      <td>(356) 736-7352</td>\n",
       "      <td>G7M 5F3</td>\n",
       "      <td>SK</td>\n",
       "      <td>5020000000000230</td>\n",
       "      <td>07/2028</td>\n",
       "      <td>Visa</td>\n",
       "      <td>68.31</td>\n",
       "      <td>Black</td>\n",
       "      <td>106.198.76.211</td>\n",
       "      <td>Tuesday</td>\n",
       "      <td>am</td>\n",
       "      <td>12/20/1926</td>\n",
       "    </tr>\n",
       "    <tr>\n",
       "      <th>2</th>\n",
       "      <td>Miss</td>\n",
       "      <td>Harry</td>\n",
       "      <td>Meyer</td>\n",
       "      <td>zuz@lo.wf</td>\n",
       "      <td>Female</td>\n",
       "      <td>51</td>\n",
       "      <td>CSX Corp.</td>\n",
       "      <td>Political Scientist</td>\n",
       "      <td>(539) 246-1806</td>\n",
       "      <td>A0Z 6P9</td>\n",
       "      <td>NS</td>\n",
       "      <td>6300000000000000</td>\n",
       "      <td>02/2023</td>\n",
       "      <td>Switch</td>\n",
       "      <td>34.65</td>\n",
       "      <td>Black</td>\n",
       "      <td>186.150.187.29</td>\n",
       "      <td>Wednesday</td>\n",
       "      <td>pm</td>\n",
       "      <td>08/20/1931</td>\n",
       "    </tr>\n",
       "    <tr>\n",
       "      <th>3</th>\n",
       "      <td>Miss</td>\n",
       "      <td>Edith</td>\n",
       "      <td>Gilbert</td>\n",
       "      <td>hansohsi@jupec.md</td>\n",
       "      <td>Female</td>\n",
       "      <td>55</td>\n",
       "      <td>Murphy Oil Corporation</td>\n",
       "      <td>Transportation Manager</td>\n",
       "      <td>(984) 962-7494</td>\n",
       "      <td>P9I 9H3</td>\n",
       "      <td>YT</td>\n",
       "      <td>3530000000000000</td>\n",
       "      <td>02/2028</td>\n",
       "      <td>Maestro</td>\n",
       "      <td>64.59</td>\n",
       "      <td>White</td>\n",
       "      <td>80.140.57.161</td>\n",
       "      <td>Saturday</td>\n",
       "      <td>am</td>\n",
       "      <td>06/18/2001</td>\n",
       "    </tr>\n",
       "    <tr>\n",
       "      <th>4</th>\n",
       "      <td>Dr.</td>\n",
       "      <td>Lura</td>\n",
       "      <td>Murphy</td>\n",
       "      <td>webediti@je.st</td>\n",
       "      <td>Female</td>\n",
       "      <td>20</td>\n",
       "      <td>PETsMART Inc</td>\n",
       "      <td>Statistician</td>\n",
       "      <td>(902) 568-9748</td>\n",
       "      <td>S1A 6K0</td>\n",
       "      <td>ON</td>\n",
       "      <td>4030000000000000</td>\n",
       "      <td>10/2025</td>\n",
       "      <td>Diners Club International</td>\n",
       "      <td>20.83</td>\n",
       "      <td>Yellow</td>\n",
       "      <td>211.103.43.41</td>\n",
       "      <td>Friday</td>\n",
       "      <td>pm</td>\n",
       "      <td>06/14/2045</td>\n",
       "    </tr>\n",
       "  </tbody>\n",
       "</table>\n",
       "</div>"
      ],
      "text/plain": [
       "  prefix    first       last              email  gender  age  \\\n",
       "0    Dr.      Ray     Morton    sebvajom@kol.km    Male   38   \n",
       "1   Miss  Claudia  Rodriquez      acu@jatsot.ug  Female   51   \n",
       "2   Miss    Harry      Meyer          zuz@lo.wf  Female   51   \n",
       "3   Miss    Edith    Gilbert  hansohsi@jupec.md  Female   55   \n",
       "4    Dr.     Lura     Murphy     webediti@je.st  Female   20   \n",
       "\n",
       "                        company              profession           phone  \\\n",
       "0                Medtronic Inc.        Health Therapist  (987) 619-2695   \n",
       "1  Ames Department Stores, Inc.        Health Therapist  (356) 736-7352   \n",
       "2                     CSX Corp.     Political Scientist  (539) 246-1806   \n",
       "3        Murphy Oil Corporation  Transportation Manager  (984) 962-7494   \n",
       "4                  PETsMART Inc            Statistician  (902) 568-9748   \n",
       "\n",
       "    postal province             cc_no   cc_exp                    cc_type  \\\n",
       "0  B6V 3W3       MB  5020000000000230  05/2018                       Solo   \n",
       "1  G7M 5F3       SK  5020000000000230  07/2028                       Visa   \n",
       "2  A0Z 6P9       NS  6300000000000000  02/2023                     Switch   \n",
       "3  P9I 9H3       YT  3530000000000000  02/2028                    Maestro   \n",
       "4  S1A 6K0       ON  4030000000000000  10/2025  Diners Club International   \n",
       "\n",
       "   price(CAD) fav_color              ip    weekday ampm        date  \n",
       "0        8.36      Blue    126.23.139.2     Sunday   pm  04/05/1930  \n",
       "1       68.31     Black  106.198.76.211    Tuesday   am  12/20/1926  \n",
       "2       34.65     Black  186.150.187.29  Wednesday   pm  08/20/1931  \n",
       "3       64.59     White   80.140.57.161   Saturday   am  06/18/2001  \n",
       "4       20.83    Yellow   211.103.43.41     Friday   pm  06/14/2045  "
      ]
     },
     "execution_count": 2,
     "metadata": {},
     "output_type": "execute_result"
    }
   ],
   "source": [
    "df.head()"
   ]
  },
  {
   "cell_type": "code",
   "execution_count": null,
   "metadata": {},
   "outputs": [],
   "source": []
  },
  {
   "cell_type": "markdown",
   "metadata": {},
   "source": [
    "**3. How many entries your data have? \n",
    "Can you tell the no. of columns in your data?**"
   ]
  },
  {
   "cell_type": "code",
   "execution_count": 3,
   "metadata": {},
   "outputs": [
    {
     "name": "stdout",
     "output_type": "stream",
     "text": [
      "(30000, 20)\n",
      "20\n"
     ]
    }
   ],
   "source": [
    "print(df.shape)\n",
    "\n",
    "print(len(df.columns))"
   ]
  },
  {
   "cell_type": "code",
   "execution_count": null,
   "metadata": {},
   "outputs": [],
   "source": []
  },
  {
   "cell_type": "markdown",
   "metadata": {},
   "source": [
    "**4. What are the max and min ages of your customer? Can you find mean of your customer?**"
   ]
  },
  {
   "cell_type": "code",
   "execution_count": 4,
   "metadata": {},
   "outputs": [
    {
     "name": "stdout",
     "output_type": "stream",
     "text": [
      "Index(['prefix', 'first', 'last', 'email', 'gender', 'age', 'company',\n",
      "       'profession', 'phone', 'postal', 'province', 'cc_no', 'cc_exp',\n",
      "       'cc_type', 'price(CAD)', 'fav_color', 'ip', 'weekday', 'ampm', 'date'],\n",
      "      dtype='object')\n",
      "Maximum age: 65\n",
      "Minimum age: 18\n",
      "Average age: 41.550066666666666\n"
     ]
    }
   ],
   "source": [
    "print(df.columns)\n",
    "\n",
    "max_age = df['age'].max()\n",
    "min_age = df['age'].min()\n",
    "mean_age = df['age'].mean()\n",
    "\n",
    "print(\"Maximum age:\", max_age)\n",
    "print(\"Minimum age:\", min_age)\n",
    "print(\"Average age:\", mean_age)\n"
   ]
  },
  {
   "cell_type": "code",
   "execution_count": null,
   "metadata": {},
   "outputs": [],
   "source": []
  },
  {
   "cell_type": "markdown",
   "metadata": {},
   "source": [
    "**5. What are the three most common customer's names?**<br>\n",
    "&#9989; [<code>**value_counts()**</code>](http://pandas.pydata.org/pandas-docs/stable/generated/pandas.Series.value_counts.html) returns object containing counts of unique values. The resulting object will be in descending order so that the first element is the most frequently-occurring element. Excludes NA values by default."
   ]
  },
  {
   "cell_type": "code",
   "execution_count": 5,
   "metadata": {},
   "outputs": [
    {
     "name": "stdout",
     "output_type": "stream",
     "text": [
      "Index(['prefix', 'first', 'last', 'email', 'gender', 'age', 'company',\n",
      "       'profession', 'phone', 'postal', 'province', 'cc_no', 'cc_exp',\n",
      "       'cc_type', 'price(CAD)', 'fav_color', 'ip', 'weekday', 'ampm', 'date'],\n",
      "      dtype='object')\n",
      "first\n",
      "Willie     130\n",
      "Francis    124\n",
      "Eula        86\n",
      "Name: count, dtype: int64\n"
     ]
    }
   ],
   "source": [
    "print(df.columns)\n",
    "top_names = df['first'].value_counts().head(3)\n",
    "print(top_names)\n",
    "\n"
   ]
  },
  {
   "cell_type": "code",
   "execution_count": null,
   "metadata": {},
   "outputs": [],
   "source": []
  },
  {
   "cell_type": "markdown",
   "metadata": {},
   "source": [
    "**6. Two customers have the same phone number, can you find those customers**?"
   ]
  },
  {
   "cell_type": "code",
   "execution_count": 6,
   "metadata": {},
   "outputs": [
    {
     "name": "stdout",
     "output_type": "stream",
     "text": [
      "   prefix  first   last                email  gender  age            company  \\\n",
      "15   Mrs.  Lilly  Tyler      kofadu@itohi.tf  Female   38          CSX Corp.   \n",
      "16   Mrs.  Peter   Cain  megkosig@anazeor.gn    Male   27  Campbell Soup Co.   \n",
      "\n",
      "             profession           phone   postal province             cc_no  \\\n",
      "15  Structural Engineer  (263) 382-8004  V7K 1E3       ON    30000000000000   \n",
      "16   Insurance Adjuster  (263) 382-8004  E8T 2B4       YT  3530000000000000   \n",
      "\n",
      "     cc_exp                    cc_type  price(CAD) fav_color              ip  \\\n",
      "15  11/2022  Diners Club Carte Blanche        9.61    Yellow   74.124.37.227   \n",
      "16  03/2024                       Solo       13.74     Black  25.207.141.135   \n",
      "\n",
      "     weekday ampm        date  \n",
      "15  Saturday   am  03/30/1985  \n",
      "16   Tuesday   am  08/05/1950  \n"
     ]
    }
   ],
   "source": [
    "duplicate_phones = df['phone'].value_counts()\n",
    "\n",
    "duplicate_phones = duplicate_phones[duplicate_phones > 1].index\n",
    "\n",
    "customers_with_duplicate_phones = df[df['phone'].isin(duplicate_phones)]\n",
    "\n",
    "print(customers_with_duplicate_phones)\n"
   ]
  },
  {
   "cell_type": "code",
   "execution_count": 7,
   "metadata": {
    "scrolled": true
   },
   "outputs": [
    {
     "name": "stdout",
     "output_type": "stream",
     "text": [
      "Phone numbers used exactly twice:\n",
      "Index(['(263) 382-8004'], dtype='object', name='phone')\n"
     ]
    }
   ],
   "source": [
    "# lets find what phone number is twice\n",
    "phone_counts = df['phone'].value_counts()\n",
    "\n",
    "phones_used_twice = phone_counts[phone_counts == 2].index\n",
    "\n",
    "print(\"Phone numbers used exactly twice:\")\n",
    "print(phones_used_twice)\n"
   ]
  },
  {
   "cell_type": "code",
   "execution_count": 8,
   "metadata": {},
   "outputs": [],
   "source": [
    "# Code here please"
   ]
  },
  {
   "cell_type": "code",
   "execution_count": 9,
   "metadata": {},
   "outputs": [],
   "source": [
    "# Now we know the phone number, let's find out the other stuff!\n"
   ]
  },
  {
   "cell_type": "markdown",
   "metadata": {},
   "source": [
    "**7. How many customers have profession \"Structural Engineer\"?**"
   ]
  },
  {
   "cell_type": "code",
   "execution_count": 10,
   "metadata": {},
   "outputs": [
    {
     "name": "stdout",
     "output_type": "stream",
     "text": [
      "Number of Structural Engineers: 87\n"
     ]
    }
   ],
   "source": [
    "count_structural_engineers = df[df['profession'] == 'Structural Engineer'].shape[0]\n",
    "\n",
    "print(\"Number of Structural Engineers:\", count_structural_engineers)\n"
   ]
  },
  {
   "cell_type": "code",
   "execution_count": null,
   "metadata": {},
   "outputs": [],
   "source": []
  },
  {
   "cell_type": "markdown",
   "metadata": {},
   "source": [
    "**8. How many male customers are 'Structural Engineer'?**"
   ]
  },
  {
   "cell_type": "code",
   "execution_count": 11,
   "metadata": {},
   "outputs": [
    {
     "name": "stdout",
     "output_type": "stream",
     "text": [
      "Number of male Structural Engineers: 43\n"
     ]
    }
   ],
   "source": [
    "male_structural_engineers = df[\n",
    "    (df['gender'] == 'Male') & (df['profession'] == 'Structural Engineer')\n",
    "]\n",
    "count = male_structural_engineers.shape[0]\n",
    "\n",
    "print(\"Number of male Structural Engineers:\", count)\n"
   ]
  },
  {
   "cell_type": "code",
   "execution_count": null,
   "metadata": {},
   "outputs": [],
   "source": []
  },
  {
   "cell_type": "markdown",
   "metadata": {},
   "source": [
    "**9. Find out the female Structural Engineers from province Alberta (AB)?** "
   ]
  },
  {
   "cell_type": "code",
   "execution_count": 12,
   "metadata": {},
   "outputs": [
    {
     "name": "stdout",
     "output_type": "stream",
     "text": [
      "Number of female Structural Engineers: 44\n"
     ]
    }
   ],
   "source": [
    "male_structural_engineers = df[\n",
    "    (df['gender'] == 'Female') & (df['profession'] == 'Structural Engineer')\n",
    "]\n",
    "count = male_structural_engineers.shape[0]\n",
    "\n",
    "print(\"Number of female Structural Engineers:\", count)\n"
   ]
  },
  {
   "cell_type": "code",
   "execution_count": null,
   "metadata": {},
   "outputs": [],
   "source": []
  },
  {
   "cell_type": "markdown",
   "metadata": {},
   "source": [
    "**10. What is the max, min and average spending?**"
   ]
  },
  {
   "cell_type": "code",
   "execution_count": 13,
   "metadata": {},
   "outputs": [
    {
     "name": "stdout",
     "output_type": "stream",
     "text": [
      "Max. spending: 100.0\n",
      "Min. spending: 0.0\n",
      "Avg. spending: 49.990775\n"
     ]
    }
   ],
   "source": [
    "# Assuming the spending data is in a column named 'Spending'\n",
    "max_spending = df['price(CAD)'].max()\n",
    "min_spending = df['price(CAD)'].min()\n",
    "avg_spending = df['price(CAD)'].mean()\n",
    "\n",
    "print(\"Max. spending:\", max_spending)\n",
    "print(\"Min. spending:\", min_spending)\n",
    "print(\"Avg. spending:\", avg_spending)\n"
   ]
  },
  {
   "cell_type": "code",
   "execution_count": null,
   "metadata": {},
   "outputs": [],
   "source": []
  },
  {
   "cell_type": "markdown",
   "metadata": {},
   "source": [
    "**11. Who did not spend anything? Company wants to send a deal to encourage the customer to buy stuff!**"
   ]
  },
  {
   "cell_type": "code",
   "execution_count": 14,
   "metadata": {},
   "outputs": [
    {
     "name": "stdout",
     "output_type": "stream",
     "text": [
      "      prefix  first   last           email  gender  age              company  \\\n",
      "5320     Dr.  Bruce  Bryan  ru@pubuspuh.cl    Male   59  Wal-Mart Stores Inc   \n",
      "10597   Mrs.  Flora  Clark      wad@me.com  Female   27         MetLife Inc.   \n",
      "\n",
      "                profession           phone   postal province            cc_no  \\\n",
      "5320   Engineer Technician  (709) 446-8317  H6H 3Y0       NU  201000000000000   \n",
      "10597      Cruise Director  (775) 373-6590  B2U 8K6       NB   30100000000000   \n",
      "\n",
      "        cc_exp                    cc_type  price(CAD) fav_color  \\\n",
      "5320   04/2024                   Bankcard         0.0     White   \n",
      "10597  05/2020  Diners Club Carte Blanche         0.0       Red   \n",
      "\n",
      "                  ip    weekday ampm        date  \n",
      "5320     82.70.62.64  Wednesday   am  12/11/1900  \n",
      "10597  231.156.15.63   Thursday   pm  08/22/1904  \n"
     ]
    }
   ],
   "source": [
    "no_spending_customers = df[df['price(CAD)'] == 0]\n",
    "\n",
    "print(no_spending_customers)\n"
   ]
  },
  {
   "cell_type": "code",
   "execution_count": null,
   "metadata": {},
   "outputs": [],
   "source": []
  },
  {
   "cell_type": "markdown",
   "metadata": {},
   "source": [
    "**12. As a loyalty reward, company wants to send thanks coupon to those who spent 100CAD or more, please find out the customers?**"
   ]
  },
  {
   "cell_type": "code",
   "execution_count": 15,
   "metadata": {},
   "outputs": [
    {
     "name": "stdout",
     "output_type": "stream",
     "text": [
      "      prefix    first         last          email  gender  age  \\\n",
      "76      Mrs.  Gregory        Brown     hav@jek.gs  Female   31   \n",
      "21093   Mrs.     Cody  Christensen    get@jovu.ag    Male   28   \n",
      "24385   Miss   Lizzie        Dixon  goh@tuwjaz.gd  Female   38   \n",
      "\n",
      "                         company              profession           phone  \\\n",
      "76           E*Trade Group, Inc.                Novelist  (625) 537-8923   \n",
      "21093        National City Corp.  Hospital Administrator  (261) 737-3292   \n",
      "24385  FleetBoston Financial Co.    Compensation Analyst  (989) 239-1752   \n",
      "\n",
      "        postal province             cc_no   cc_exp   cc_type  price(CAD)  \\\n",
      "76     X3S 4Q2       PE  6010000000000000  04/2018      Visa       100.0   \n",
      "21093  X0S 1O5       PE   201000000000000  03/2024       JCB       100.0   \n",
      "24385  V8X 9V6       NB  6300000000000000  07/2019  Bankcard       100.0   \n",
      "\n",
      "      fav_color             ip    weekday ampm        date  \n",
      "76        Green  212.100.18.95     Monday   am  10/23/2063  \n",
      "21093     Green  168.48.19.165  Wednesday   pm  03/28/1955  \n",
      "24385      Blue   140.87.99.78   Saturday   pm  03/03/1983  \n"
     ]
    }
   ],
   "source": [
    "loyal_customers = df[df['price(CAD)'] >= 100]\n",
    "\n",
    "print(loyal_customers)\n"
   ]
  },
  {
   "cell_type": "code",
   "execution_count": null,
   "metadata": {
    "scrolled": true
   },
   "outputs": [],
   "source": []
  },
  {
   "cell_type": "markdown",
   "metadata": {
    "collapsed": true,
    "jupyter": {
     "outputs_hidden": true
    }
   },
   "source": [
    "**13. How many emails are associated with this credit card number '5020000000000230'?**"
   ]
  },
  {
   "cell_type": "code",
   "execution_count": 16,
   "metadata": {},
   "outputs": [
    {
     "name": "stdout",
     "output_type": "stream",
     "text": [
      "Total unique emails linked to 502000000000230: 0\n"
     ]
    }
   ],
   "source": [
    "target_card = '502000000000230'\n",
    "associated_emails = df[df['cc_no'] == target_card]['email']\n",
    "\n",
    "# Count the number of unique emails\n",
    "email_count = associated_emails.nunique()\n",
    "\n",
    "print(f\"Total unique emails linked to {target_card}: {email_count}\")\n"
   ]
  },
  {
   "cell_type": "code",
   "execution_count": null,
   "metadata": {},
   "outputs": [],
   "source": []
  },
  {
   "cell_type": "markdown",
   "metadata": {},
   "source": [
    "**14. We need to send new cards to the customers well before the expire, how many cards are expiring in 2019?**<br>\n",
    "*Use `sum()` and `count()` and see the difference in their use :)*"
   ]
  },
  {
   "cell_type": "code",
   "execution_count": 17,
   "metadata": {},
   "outputs": [
    {
     "name": "stdout",
     "output_type": "stream",
     "text": [
      "Using count(): 2684\n",
      "Using sum(): 2684\n"
     ]
    },
    {
     "name": "stderr",
     "output_type": "stream",
     "text": [
      "C:\\Users\\FLS\\AppData\\Local\\Temp\\ipykernel_684\\113932707.py:1: UserWarning: Could not infer format, so each element will be parsed individually, falling back to `dateutil`. To ensure parsing is consistent and as-expected, please specify a format.\n",
      "  df['cc_exp'] = pd.to_datetime(df['cc_exp'])\n"
     ]
    }
   ],
   "source": [
    "df['cc_exp'] = pd.to_datetime(df['cc_exp'])\n",
    "\n",
    "expiring_2019 = df[df['cc_exp'].dt.year == 2019]\n",
    "\n",
    "print(\"Using count():\", expiring_2019['cc_exp'].count())\n",
    "\n",
    "print(\"Using sum():\", (df['cc_exp'].dt.year == 2019).sum())\n"
   ]
  },
  {
   "cell_type": "code",
   "execution_count": 18,
   "metadata": {},
   "outputs": [],
   "source": [
    "#cust[cust['cc_exp'].apply(lambda x: x[5:]) == '19'].count()\n"
   ]
  },
  {
   "cell_type": "markdown",
   "metadata": {
    "collapsed": true,
    "jupyter": {
     "outputs_hidden": true
    }
   },
   "source": [
    "**15. How many people use Visa as their Credit Card Provider?**"
   ]
  },
  {
   "cell_type": "code",
   "execution_count": null,
   "metadata": {},
   "outputs": [],
   "source": [
    "\n"
   ]
  },
  {
   "cell_type": "code",
   "execution_count": null,
   "metadata": {},
   "outputs": [],
   "source": []
  },
  {
   "cell_type": "markdown",
   "metadata": {
    "collapsed": true,
    "jupyter": {
     "outputs_hidden": true
    }
   },
   "source": [
    "**16. Can you find the customer who spent 100 CAD using Visa?**"
   ]
  },
  {
   "cell_type": "code",
   "execution_count": 19,
   "metadata": {},
   "outputs": [],
   "source": [
    "# Code here please"
   ]
  },
  {
   "cell_type": "code",
   "execution_count": null,
   "metadata": {},
   "outputs": [],
   "source": []
  },
  {
   "cell_type": "markdown",
   "metadata": {},
   "source": [
    "**17. What are two most common professions?**"
   ]
  },
  {
   "cell_type": "code",
   "execution_count": 20,
   "metadata": {},
   "outputs": [],
   "source": [
    "# Code here please"
   ]
  },
  {
   "cell_type": "code",
   "execution_count": null,
   "metadata": {},
   "outputs": [],
   "source": []
  },
  {
   "cell_type": "markdown",
   "metadata": {
    "collapsed": true,
    "jupyter": {
     "outputs_hidden": true
    }
   },
   "source": [
    "**18. Can you tell the top 5 most popular email providers? (e.g. gmail.com, yahoo.com, etc...)**"
   ]
  },
  {
   "cell_type": "code",
   "execution_count": 21,
   "metadata": {},
   "outputs": [],
   "source": [
    "# Code here please"
   ]
  },
  {
   "cell_type": "code",
   "execution_count": null,
   "metadata": {},
   "outputs": [],
   "source": []
  },
  {
   "cell_type": "markdown",
   "metadata": {
    "collapsed": true,
    "jupyter": {
     "outputs_hidden": true
    }
   },
   "source": [
    "**19. Is there any customer who is using email with \"am.edu\"?**<br>\n",
    "Hint: Use `lambda` expression in `apply()`. split the email address at `@`.  "
   ]
  },
  {
   "cell_type": "code",
   "execution_count": 22,
   "metadata": {},
   "outputs": [],
   "source": [
    "# Code here please"
   ]
  },
  {
   "cell_type": "code",
   "execution_count": null,
   "metadata": {},
   "outputs": [],
   "source": []
  },
  {
   "cell_type": "markdown",
   "metadata": {
    "collapsed": true,
    "jupyter": {
     "outputs_hidden": true
    }
   },
   "source": [
    "**20. Which day of the week, the store gets more customers?**"
   ]
  },
  {
   "cell_type": "code",
   "execution_count": 23,
   "metadata": {},
   "outputs": [],
   "source": [
    "# Code here please"
   ]
  },
  {
   "cell_type": "code",
   "execution_count": null,
   "metadata": {},
   "outputs": [],
   "source": []
  },
  {
   "cell_type": "markdown",
   "metadata": {},
   "source": [
    "# Excellent work!"
   ]
  }
 ],
 "metadata": {
  "kernelspec": {
   "display_name": "Python 3 (ipykernel)",
   "language": "python",
   "name": "python3"
  },
  "language_info": {
   "codemirror_mode": {
    "name": "ipython",
    "version": 3
   },
   "file_extension": ".py",
   "mimetype": "text/x-python",
   "name": "python",
   "nbconvert_exporter": "python",
   "pygments_lexer": "ipython3",
   "version": "3.13.5"
  }
 },
 "nbformat": 4,
 "nbformat_minor": 4
}
